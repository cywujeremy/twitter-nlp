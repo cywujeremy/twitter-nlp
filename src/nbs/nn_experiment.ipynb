{
 "cells": [
  {
   "cell_type": "markdown",
   "metadata": {},
   "source": [
    "## Neural Nets Experiments with Keras"
   ]
  },
  {
   "cell_type": "code",
   "execution_count": 1,
   "metadata": {},
   "outputs": [
    {
     "name": "stdout",
     "output_type": "stream",
     "text": [
      "e:\\OneDriveLocal\\OneDrive\\学习\\Graduate Study\\2021Winter\\twitter-nlp\n"
     ]
    }
   ],
   "source": [
    "# set paths\n",
    "import os\n",
    "os.chdir('../../')\n",
    "os.environ['CUDA_VISIBLE_DEVICES'] = '0'\n",
    "print(os.getcwd())\n",
    "\n",
    "import sys\n",
    "sys.path.append('.')"
   ]
  },
  {
   "cell_type": "code",
   "execution_count": 16,
   "metadata": {},
   "outputs": [],
   "source": [
    "# import libraries\n",
    "import numpy as np\n",
    "import pandas as pd\n",
    "import matplotlib.pyplot as plt\n",
    "import seaborn as sns\n",
    "import re\n",
    "\n",
    "from sklearn.feature_extraction.text import TfidfVectorizer, CountVectorizer\n",
    "from sklearn.model_selection import GridSearchCV\n",
    "from sklearn.linear_model import LogisticRegression\n",
    "from sklearn.model_selection import train_test_split\n",
    "from sklearn.preprocessing import LabelEncoder, OneHotEncoder\n",
    "\n",
    "import spacy\n",
    "\n",
    "import tensorflow as tf\n",
    "from keras.preprocessing.sequence import pad_sequences\n",
    "from keras.layers import LSTM, Dense, Embedding, Dropout, Activation, Softmax, Bidirectional\n",
    "from keras import Sequential\n",
    "\n",
    "from src.utils.submission import prediction_output\n",
    "from src.utils.preprocessing import TextNormalizer, generate_vocabulary, encode_document"
   ]
  },
  {
   "cell_type": "code",
   "execution_count": 3,
   "metadata": {},
   "outputs": [
    {
     "data": {
      "text/plain": [
       "[PhysicalDevice(name='/physical_device:CPU:0', device_type='CPU'),\n",
       " PhysicalDevice(name='/physical_device:GPU:0', device_type='GPU')]"
      ]
     },
     "execution_count": 3,
     "metadata": {},
     "output_type": "execute_result"
    }
   ],
   "source": [
    "tf.config.experimental.list_physical_devices()"
   ]
  },
  {
   "cell_type": "markdown",
   "metadata": {},
   "source": [
    "### 1. Data Loading and Preprocessing"
   ]
  },
  {
   "cell_type": "code",
   "execution_count": 4,
   "metadata": {},
   "outputs": [],
   "source": [
    "df_train = pd.read_csv('./data/train.csv')\n",
    "df_test = pd.read_csv('./data/test.csv')\n",
    "\n",
    "rules = {r\"[.!?#@÷>\\+\\-\\*/':;(),\\|\\[\\]_]+|[\\x89Û|\\x89Ó|\\x89Ò|\\x89|åê]+|http://t.co/[A-Za-z0-9]+|https://t.co/[A-Za-z0-9]+|\\&gt|\\&amp\": ' ',\n",
    "         r'\\n': ' ',\n",
    "         r'[ ]+': ' '}\n",
    "\n",
    "text_normalizer = TextNormalizer(rules=rules)\n",
    "\n",
    "df_train['text_clean'] = text_normalizer.clean(df_train['text'])\n",
    "df_test['text_clean'] = text_normalizer.clean(df_test['text'])\n",
    "\n",
    "y_train = df_train['target']\n",
    "label_encoder = OneHotEncoder()\n",
    "y_train = label_encoder.fit_transform(np.array(y_train).reshape(-1, 1)).toarray()\n",
    "\n",
    "## train-validation split\n",
    "text_train, text_val, y_train, y_val = train_test_split(df_train['text_clean'], y_train, test_size=0.3)\n",
    "text_test = np.array(df_test['text_clean'])\n"
   ]
  },
  {
   "cell_type": "code",
   "execution_count": 5,
   "metadata": {},
   "outputs": [],
   "source": [
    "## creating vocabulary index list and dictionary\n",
    "nlp = spacy.load('en_core_web_lg')\n",
    "word2ind, ind2word, ind2vec = generate_vocabulary(text_train, nlp)"
   ]
  },
  {
   "cell_type": "code",
   "execution_count": 6,
   "metadata": {},
   "outputs": [],
   "source": [
    "encoded_train = np.array([encode_document(document, word2ind) for document in text_train])\n",
    "encoded_val = np.array([encode_document(document, word2ind) for document in text_val])\n",
    "encoded_test = np.array([encode_document(document, word2ind) for document in text_test])"
   ]
  },
  {
   "cell_type": "code",
   "execution_count": 7,
   "metadata": {},
   "outputs": [],
   "source": [
    "max_length = max(max([len(doc) for doc in encoded_train]),\n",
    "                 max([len(doc) for doc in encoded_val]),\n",
    "                 max([len(doc) for doc in encoded_test]))\n",
    "\n",
    "padded_train = pad_sequences(encoded_train, maxlen=max_length)\n",
    "padded_val = pad_sequences(encoded_val, maxlen=max_length)\n",
    "padded_test = pad_sequences(encoded_test, maxlen=max_length)"
   ]
  },
  {
   "cell_type": "code",
   "execution_count": 8,
   "metadata": {},
   "outputs": [],
   "source": [
    "ind2vec_array = np.array(list(ind2vec.values()))"
   ]
  },
  {
   "cell_type": "markdown",
   "metadata": {},
   "source": [
    "### 2. Model Building"
   ]
  },
  {
   "cell_type": "code",
   "execution_count": 17,
   "metadata": {},
   "outputs": [
    {
     "name": "stdout",
     "output_type": "stream",
     "text": [
      "Model: \"sequential_3\"\n",
      "_________________________________________________________________\n",
      " Layer (type)                Output Shape              Param #   \n",
      "=================================================================\n",
      " embedding_3 (Embedding)     (None, 34, 300)           4042200   \n",
      "                                                                 \n",
      " bidirectional (Bidirectiona  (None, 100)              140800    \n",
      " l)                                                              \n",
      "                                                                 \n",
      " dropout_1 (Dropout)         (None, 100)               0         \n",
      "                                                                 \n",
      " dense_9 (Dense)             (None, 128)               12928     \n",
      "                                                                 \n",
      " dense_10 (Dense)            (None, 2)                 258       \n",
      "                                                                 \n",
      " activation_2 (Activation)   (None, 2)                 0         \n",
      "                                                                 \n",
      "=================================================================\n",
      "Total params: 4,196,186\n",
      "Trainable params: 4,196,186\n",
      "Non-trainable params: 0\n",
      "_________________________________________________________________\n"
     ]
    }
   ],
   "source": [
    "model = Sequential()\n",
    "\n",
    "embed_input_dim = len(word2ind)\n",
    "embed_output_dim = len(ind2vec[0])\n",
    "\n",
    "model.add(Embedding(input_dim=embed_input_dim,\n",
    "                    output_dim=embed_output_dim,\n",
    "                    input_length=max_length,\n",
    "                    weights=[ind2vec_array]))\n",
    "model.add(tf.compat.v1.keras.layers.CuDNNLSTM(128, regul))\n",
    "model.add(Dropout(0.5))\n",
    "model.add(Dense(128))\n",
    "model.add(Dense(2))\n",
    "model.add(Activation('softmax'))\n",
    "\n",
    "model.compile(optimizer='adam', loss='categorical_crossentropy',\n",
    "              metrics=['accuracy'])\n",
    "\n",
    "model.summary()"
   ]
  },
  {
   "cell_type": "code",
   "execution_count": 18,
   "metadata": {},
   "outputs": [
    {
     "name": "stdout",
     "output_type": "stream",
     "text": [
      "Epoch 1/50\n",
      "167/167 [==============================] - 4s 14ms/step - loss: 0.5600 - accuracy: 0.7127 - val_loss: 0.4870 - val_accuracy: 0.7745\n",
      "Epoch 2/50\n",
      "167/167 [==============================] - 2s 13ms/step - loss: 0.3608 - accuracy: 0.8433 - val_loss: 0.4761 - val_accuracy: 0.7850\n",
      "Epoch 3/50\n",
      "167/167 [==============================] - 2s 13ms/step - loss: 0.2164 - accuracy: 0.9191 - val_loss: 0.6177 - val_accuracy: 0.7574\n",
      "Epoch 4/50\n",
      "167/167 [==============================] - 2s 13ms/step - loss: 0.1298 - accuracy: 0.9567 - val_loss: 0.7321 - val_accuracy: 0.7701\n",
      "Epoch 5/50\n",
      "167/167 [==============================] - 2s 13ms/step - loss: 0.0837 - accuracy: 0.9713 - val_loss: 0.7835 - val_accuracy: 0.7693\n",
      "Epoch 6/50\n",
      "167/167 [==============================] - 2s 13ms/step - loss: 0.0665 - accuracy: 0.9765 - val_loss: 0.9284 - val_accuracy: 0.7574\n",
      "Epoch 7/50\n",
      "167/167 [==============================] - 2s 13ms/step - loss: 0.0548 - accuracy: 0.9799 - val_loss: 0.8990 - val_accuracy: 0.7491\n",
      "Epoch 8/50\n",
      "167/167 [==============================] - 2s 13ms/step - loss: 0.0544 - accuracy: 0.9795 - val_loss: 0.9355 - val_accuracy: 0.7614\n",
      "Epoch 9/50\n",
      "167/167 [==============================] - 2s 13ms/step - loss: 0.0416 - accuracy: 0.9822 - val_loss: 0.9428 - val_accuracy: 0.7618\n",
      "Epoch 10/50\n",
      "167/167 [==============================] - 2s 13ms/step - loss: 0.0380 - accuracy: 0.9818 - val_loss: 1.0270 - val_accuracy: 0.7496\n",
      "Epoch 11/50\n",
      "167/167 [==============================] - 2s 13ms/step - loss: 0.0350 - accuracy: 0.9827 - val_loss: 1.2256 - val_accuracy: 0.7496\n",
      "Epoch 12/50\n",
      "167/167 [==============================] - 2s 13ms/step - loss: 0.0326 - accuracy: 0.9840 - val_loss: 1.2850 - val_accuracy: 0.7684\n",
      "Epoch 13/50\n",
      "167/167 [==============================] - 2s 13ms/step - loss: 0.0336 - accuracy: 0.9839 - val_loss: 0.9660 - val_accuracy: 0.7570\n",
      "Epoch 14/50\n",
      "167/167 [==============================] - 2s 13ms/step - loss: 0.0351 - accuracy: 0.9840 - val_loss: 1.0696 - val_accuracy: 0.7579\n",
      "Epoch 15/50\n",
      "167/167 [==============================] - 2s 13ms/step - loss: 0.0306 - accuracy: 0.9848 - val_loss: 1.2876 - val_accuracy: 0.7592\n",
      "Epoch 16/50\n",
      "167/167 [==============================] - 2s 13ms/step - loss: 0.0286 - accuracy: 0.9848 - val_loss: 1.3958 - val_accuracy: 0.7605\n",
      "Epoch 17/50\n",
      "167/167 [==============================] - 2s 13ms/step - loss: 0.0274 - accuracy: 0.9856 - val_loss: 1.4338 - val_accuracy: 0.7592\n",
      "Epoch 18/50\n",
      "167/167 [==============================] - 2s 13ms/step - loss: 0.0253 - accuracy: 0.9861 - val_loss: 1.5756 - val_accuracy: 0.7482\n",
      "Epoch 19/50\n",
      "167/167 [==============================] - 2s 13ms/step - loss: 0.0265 - accuracy: 0.9848 - val_loss: 1.4617 - val_accuracy: 0.7574\n",
      "Epoch 20/50\n",
      "167/167 [==============================] - 2s 13ms/step - loss: 0.0263 - accuracy: 0.9867 - val_loss: 1.4233 - val_accuracy: 0.7618\n",
      "Epoch 21/50\n",
      "167/167 [==============================] - 2s 13ms/step - loss: 0.0309 - accuracy: 0.9839 - val_loss: 1.4494 - val_accuracy: 0.7557\n",
      "Epoch 22/50\n",
      "167/167 [==============================] - 2s 13ms/step - loss: 0.0336 - accuracy: 0.9825 - val_loss: 1.3862 - val_accuracy: 0.7447\n",
      "Epoch 23/50\n",
      "167/167 [==============================] - 2s 13ms/step - loss: 0.0283 - accuracy: 0.9850 - val_loss: 1.5212 - val_accuracy: 0.7627\n",
      "Epoch 24/50\n",
      "167/167 [==============================] - 2s 13ms/step - loss: 0.0238 - accuracy: 0.9865 - val_loss: 1.5212 - val_accuracy: 0.7513\n",
      "Epoch 25/50\n",
      "167/167 [==============================] - 2s 14ms/step - loss: 0.0251 - accuracy: 0.9850 - val_loss: 1.7612 - val_accuracy: 0.7588\n",
      "Epoch 26/50\n",
      "167/167 [==============================] - 2s 14ms/step - loss: 0.0227 - accuracy: 0.9854 - val_loss: 1.8006 - val_accuracy: 0.7539\n",
      "Epoch 27/50\n",
      "167/167 [==============================] - 2s 14ms/step - loss: 0.0228 - accuracy: 0.9861 - val_loss: 1.9131 - val_accuracy: 0.7614\n",
      "Epoch 28/50\n",
      "167/167 [==============================] - 2s 13ms/step - loss: 0.0233 - accuracy: 0.9871 - val_loss: 1.7988 - val_accuracy: 0.7588\n",
      "Epoch 29/50\n",
      "167/167 [==============================] - 2s 13ms/step - loss: 0.0277 - accuracy: 0.9846 - val_loss: 1.4211 - val_accuracy: 0.7447\n",
      "Epoch 30/50\n",
      "167/167 [==============================] - 2s 13ms/step - loss: 0.0262 - accuracy: 0.9856 - val_loss: 1.7998 - val_accuracy: 0.7487\n",
      "Epoch 31/50\n",
      "167/167 [==============================] - 2s 13ms/step - loss: 0.0222 - accuracy: 0.9872 - val_loss: 1.9215 - val_accuracy: 0.7544\n",
      "Epoch 32/50\n",
      "167/167 [==============================] - 2s 13ms/step - loss: 0.0228 - accuracy: 0.9857 - val_loss: 1.7109 - val_accuracy: 0.7518\n",
      "Epoch 33/50\n",
      "167/167 [==============================] - 2s 13ms/step - loss: 0.0224 - accuracy: 0.9857 - val_loss: 1.7474 - val_accuracy: 0.7513\n",
      "Epoch 34/50\n",
      "167/167 [==============================] - 2s 13ms/step - loss: 0.0223 - accuracy: 0.9867 - val_loss: 1.8175 - val_accuracy: 0.7465\n",
      "Epoch 35/50\n",
      "167/167 [==============================] - 2s 13ms/step - loss: 0.0210 - accuracy: 0.9882 - val_loss: 2.1076 - val_accuracy: 0.7469\n",
      "Epoch 36/50\n",
      "167/167 [==============================] - 2s 13ms/step - loss: 0.0220 - accuracy: 0.9861 - val_loss: 1.8814 - val_accuracy: 0.7544\n",
      "Epoch 37/50\n",
      "167/167 [==============================] - 2s 13ms/step - loss: 0.0218 - accuracy: 0.9867 - val_loss: 2.0319 - val_accuracy: 0.7548\n",
      "Epoch 38/50\n",
      "167/167 [==============================] - 2s 13ms/step - loss: 0.0212 - accuracy: 0.9887 - val_loss: 2.0015 - val_accuracy: 0.7487\n",
      "Epoch 39/50\n",
      "167/167 [==============================] - 2s 13ms/step - loss: 0.0214 - accuracy: 0.9871 - val_loss: 2.0291 - val_accuracy: 0.7491\n",
      "Epoch 40/50\n",
      "167/167 [==============================] - 2s 13ms/step - loss: 0.0333 - accuracy: 0.9846 - val_loss: 1.1740 - val_accuracy: 0.7500\n",
      "Epoch 41/50\n",
      "167/167 [==============================] - 2s 12ms/step - loss: 0.0399 - accuracy: 0.9794 - val_loss: 1.7067 - val_accuracy: 0.7531\n",
      "Epoch 42/50\n",
      "167/167 [==============================] - 2s 12ms/step - loss: 0.0260 - accuracy: 0.9844 - val_loss: 1.7731 - val_accuracy: 0.7526\n",
      "Epoch 43/50\n",
      "167/167 [==============================] - 2s 12ms/step - loss: 0.0219 - accuracy: 0.9872 - val_loss: 1.8920 - val_accuracy: 0.7500\n",
      "Epoch 44/50\n",
      "167/167 [==============================] - 2s 12ms/step - loss: 0.0219 - accuracy: 0.9867 - val_loss: 1.8180 - val_accuracy: 0.7478\n",
      "Epoch 45/50\n",
      "167/167 [==============================] - 2s 13ms/step - loss: 0.0214 - accuracy: 0.9872 - val_loss: 1.9137 - val_accuracy: 0.7478\n",
      "Epoch 46/50\n",
      "167/167 [==============================] - 2s 13ms/step - loss: 0.0213 - accuracy: 0.9861 - val_loss: 1.9142 - val_accuracy: 0.7509\n",
      "Epoch 47/50\n",
      "167/167 [==============================] - 2s 13ms/step - loss: 0.0211 - accuracy: 0.9874 - val_loss: 1.9708 - val_accuracy: 0.7518\n",
      "Epoch 48/50\n",
      "167/167 [==============================] - 2s 13ms/step - loss: 0.0207 - accuracy: 0.9857 - val_loss: 2.1197 - val_accuracy: 0.7518\n",
      "Epoch 49/50\n",
      "167/167 [==============================] - 2s 13ms/step - loss: 0.0201 - accuracy: 0.9887 - val_loss: 2.2995 - val_accuracy: 0.7518\n",
      "Epoch 50/50\n",
      "167/167 [==============================] - 2s 13ms/step - loss: 0.0209 - accuracy: 0.9874 - val_loss: 2.0096 - val_accuracy: 0.7513\n"
     ]
    },
    {
     "data": {
      "text/plain": [
       "<keras.callbacks.History at 0x1efe3aea6c8>"
      ]
     },
     "execution_count": 18,
     "metadata": {},
     "output_type": "execute_result"
    }
   ],
   "source": [
    "model.fit(padded_train, y_train, batch_size=32, epochs=50,\n",
    "          validation_data=(padded_val, y_val))"
   ]
  }
 ],
 "metadata": {
  "interpreter": {
   "hash": "8ab0d968002a578cf1e1aa041721a175249ba338f6da29efa5ef1a380c630376"
  },
  "kernelspec": {
   "display_name": "Python 3.7.11 64-bit ('base': conda)",
   "language": "python",
   "name": "python3"
  },
  "language_info": {
   "codemirror_mode": {
    "name": "ipython",
    "version": 3
   },
   "file_extension": ".py",
   "mimetype": "text/x-python",
   "name": "python",
   "nbconvert_exporter": "python",
   "pygments_lexer": "ipython3",
   "version": "3.7.11"
  },
  "orig_nbformat": 4
 },
 "nbformat": 4,
 "nbformat_minor": 2
}
